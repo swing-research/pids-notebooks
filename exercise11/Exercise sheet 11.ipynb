{
 "cells": [
  {
   "cell_type": "markdown",
   "metadata": {
    "deletable": false,
    "editable": false,
    "nbgrader": {
     "cell_type": "markdown",
     "checksum": "10119636c4fa9329547596b44963f495",
     "grade": false,
     "grade_id": "cell-525c2fd5f3e93d2b",
     "locked": true,
     "schema_version": 3,
     "solution": false,
     "task": false
    }
   },
   "source": [
    "# Exercise sheet 11\n",
    "**Hello everyone!**\n",
    "\n",
    "**Points: 15**\n",
    "\n",
    "Please let us know if you have questions or problems! <br>\n",
    "Contact us during the exercise session, on [ADAM](https://adam.unibas.ch/goto_adam_crs_1266890.html), [Piazza](https://piazza.com/class/kzy15kp8s5t6ku), or [via email](https://sada.dmi.unibas.ch/en/teaching/pids22).\n",
    "\n",
    "Please submit this exercise sheet on **ADAM**.\n",
    "Naming conventions:\n",
    "\n",
    "1. Make a folder called \"exercise11\".\n",
    "2. Put your submission \"Exercise sheet 11.ipynb\" in there.\n",
    "3. Complete the sheet. Only put code or text inside the blocks where \"# YOUR CODE HERE\" or \"YOUR ANSWER HERE\" is written. Everything else will be deleted during grading. Don't add new blocks.\n",
    "4. Then zip the folder called \"exercise11\". This will create a zip file called \"exercise11.zip\". Rename that zip file to your Unibas short name, e.g. \"blabla0000.zip\".\n",
    "\n",
    "Common mistakes:\n",
    "- Don't use capital letter for your identification name, or the exercise folder.\n",
    "- Don't put previous sheet or dataset on the submission folders. Just the sheet, ipynb format.\n",
    "\n",
    "\n",
    "\n",
    "**Handout date**: 2022/05/24 <br>\n",
    "**Submission date**: 2022/05/31 <br>"
   ]
  },
  {
   "cell_type": "code",
   "execution_count": null,
   "metadata": {
    "deletable": false,
    "editable": false,
    "nbgrader": {
     "cell_type": "code",
     "checksum": "2b93dcc75acdb0f65915a917607e77c0",
     "grade": false,
     "grade_id": "cell-41524afeb7ebe206",
     "locked": true,
     "schema_version": 3,
     "solution": false,
     "task": false
    }
   },
   "outputs": [],
   "source": [
    "import matplotlib.pyplot as plt\n",
    "import numpy as np\n",
    "from nose.tools import assert_is_instance, assert_equal, assert_almost_equal, assert_true"
   ]
  },
  {
   "cell_type": "markdown",
   "metadata": {
    "deletable": false,
    "editable": false,
    "nbgrader": {
     "cell_type": "markdown",
     "checksum": "e268536fda4f7cc3c6fb2e8b883078c2",
     "grade": false,
     "grade_id": "cell-53460d34058f3491",
     "locked": true,
     "schema_version": 3,
     "solution": false,
     "task": false
    }
   },
   "source": [
    "In this exercise, we do a simple regression task using the correlation coefficient as discussed in the last lecture.\n",
    "At first, let's create the dataset:"
   ]
  },
  {
   "cell_type": "code",
   "execution_count": null,
   "metadata": {
    "deletable": false,
    "editable": false,
    "nbgrader": {
     "cell_type": "code",
     "checksum": "a68c9b396cd0016a22344001dde9c6a7",
     "grade": false,
     "grade_id": "cell-de32fce7c84d1792",
     "locked": true,
     "schema_version": 3,
     "solution": false,
     "task": false
    }
   },
   "outputs": [],
   "source": [
    "def perturbed_line_data(N):\n",
    "    np.random.seed(0)\n",
    "    x = np.random.uniform(low=-2, high=+2, size = N)\n",
    "    n = np.random.randn(N) * 0.1\n",
    "    a = np.random.rand(1)\n",
    "    b = np.random.rand(1)\n",
    "    y = (b +  a * x) + n\n",
    "    \n",
    "    return x, y\n",
    "\n",
    "N = 200 # The number of samples\n",
    "x,y = perturbed_line_data(N)\n",
    "\n",
    "ax = plt.subplot(111)\n",
    "ax.scatter(x, y, alpha=0.5)\n",
    "ax.spines['bottom'].set_position('zero')\n",
    "ax.spines['left'].set_position('zero')\n",
    "ax.spines['top'].set_visible(False)\n",
    "ax.spines['right'].set_visible(False)"
   ]
  },
  {
   "cell_type": "markdown",
   "metadata": {
    "deletable": false,
    "editable": false,
    "nbgrader": {
     "cell_type": "markdown",
     "checksum": "514e35a96bf2a08e1d35c1d6ab716ea7",
     "grade": false,
     "grade_id": "cell-6fcab90fcffa4ae2",
     "locked": true,
     "schema_version": 3,
     "solution": false,
     "task": false
    }
   },
   "source": [
    "### 1a (6 points)\n",
    "Now we would like to predict the corresponding $\\hat{y}$ for a given $x$. As discussed in the last lecture, we can make a linear estimator as follows:\n",
    "$$\n",
    "\\hat{y} = \\mu_y +  \\rho ( \\dfrac{x - \\mu_x}{\\sigma_x} ) \\sigma_y\n",
    "$$\n",
    "In this section, we want to implement this linear estimator for the given dataset. So at first, calculate the correlation coefficient $\\rho$ and call it rho; use this to calculate $\\hat{y}$ and call it y_hat.\n",
    "\n",
    "Hint: All you need is Numpy!\n"
   ]
  },
  {
   "cell_type": "code",
   "execution_count": null,
   "metadata": {
    "deletable": false,
    "nbgrader": {
     "cell_type": "code",
     "checksum": "34ba209685234032f38dd85a44d76589",
     "grade": false,
     "grade_id": "cell-0f3266550e4db393",
     "locked": false,
     "schema_version": 3,
     "solution": true,
     "task": false
    }
   },
   "outputs": [],
   "source": [
    "N = 200\n",
    "x,y = perturbed_line_data(N)\n",
    "\n",
    "# YOUR CODE HERE\n",
    "raise NotImplementedError()\n",
    "# rho = \n",
    "# y_hat = \n",
    "print('Correlation coefficient: {:0.3f}'.format(rho))\n",
    "\n",
    "ax = plt.subplot(111)\n",
    "ax.scatter(x, y, alpha=0.5)\n",
    "ax.plot(x, y_hat, alpha=0.5 , color = 'r')\n",
    "ax.spines['bottom'].set_position('zero')\n",
    "ax.spines['left'].set_position('zero')\n",
    "ax.spines['top'].set_visible(False)\n",
    "ax.spines['right'].set_visible(False)"
   ]
  },
  {
   "cell_type": "code",
   "execution_count": null,
   "metadata": {
    "deletable": false,
    "editable": false,
    "nbgrader": {
     "cell_type": "code",
     "checksum": "2c6db7b69742ff6e3c7f9e6103f0053d",
     "grade": true,
     "grade_id": "cell-bf5d9fe64b7e6143",
     "locked": true,
     "points": 6,
     "schema_version": 3,
     "solution": false,
     "task": false
    }
   },
   "outputs": [],
   "source": [
    "print(len(y_hat))\n",
    "print(y_hat.mean())\n",
    "print(y_hat.std())\n",
    "assert_equal(len(y_hat), N)\n",
    "assert_almost_equal(y_hat.mean(), 0.294 , places=2)\n",
    "assert_almost_equal(y_hat.std() , 0.497 , places=2)"
   ]
  },
  {
   "cell_type": "markdown",
   "metadata": {
    "deletable": false,
    "editable": false,
    "nbgrader": {
     "cell_type": "markdown",
     "checksum": "d3a062a1883e5b4035abc3122a1da075",
     "grade": false,
     "grade_id": "cell-d06a3efacbebeaa9",
     "locked": true,
     "schema_version": 3,
     "solution": false,
     "task": false
    }
   },
   "source": [
    "Why is this estimator called \"linear\"? Can you explain it from the formula and the plot?"
   ]
  },
  {
   "cell_type": "markdown",
   "metadata": {
    "deletable": false,
    "nbgrader": {
     "cell_type": "markdown",
     "checksum": "7efec59a9bbe02a0082e7f1ee55d443b",
     "grade": true,
     "grade_id": "cell-81061ad69c0d28c5",
     "locked": false,
     "points": 0,
     "schema_version": 3,
     "solution": true,
     "task": false
    }
   },
   "source": [
    "YOUR ANSWER HERE"
   ]
  },
  {
   "cell_type": "markdown",
   "metadata": {
    "deletable": false,
    "editable": false,
    "nbgrader": {
     "cell_type": "markdown",
     "checksum": "ef5412048a7471189959eba7f32b25e7",
     "grade": false,
     "grade_id": "cell-0682fdc8882d815c",
     "locked": true,
     "schema_version": 3,
     "solution": false,
     "task": false
    }
   },
   "source": [
    "### 1b (2 points)\n",
    "Since we will use this linear estimator in the next parts, it is more convenient to make it a function that takes the samples $x$ and $y$ as input and returns the predictions $\\hat{y}$ and correlation coefficient $\\rho$: "
   ]
  },
  {
   "cell_type": "code",
   "execution_count": null,
   "metadata": {
    "deletable": false,
    "nbgrader": {
     "cell_type": "code",
     "checksum": "8c3f0799c1ed9fb6f6d2193f083b96d9",
     "grade": false,
     "grade_id": "cell-183fea12257ba84f",
     "locked": false,
     "schema_version": 3,
     "solution": true,
     "task": false
    }
   },
   "outputs": [],
   "source": [
    "def linear_regressor(x,y):\n",
    "    # YOUR CODE HERE\n",
    "    raise NotImplementedError()\n",
    "    return y_hat, rho  \n",
    "\n",
    "y_hat, rho = linear_regressor(x,y)\n",
    "print('Correlation coefficient: {:0.3f}'.format(rho))"
   ]
  },
  {
   "cell_type": "code",
   "execution_count": null,
   "metadata": {
    "deletable": false,
    "editable": false,
    "nbgrader": {
     "cell_type": "code",
     "checksum": "e5fbf3d04796f7eaf3c1296b92af1330",
     "grade": true,
     "grade_id": "cell-b16bddc2f8788742",
     "locked": true,
     "points": 2,
     "schema_version": 3,
     "solution": false,
     "task": false
    }
   },
   "outputs": [],
   "source": [
    "print(len(y_hat))\n",
    "print(y_hat.mean())\n",
    "print(y_hat.std())\n",
    "assert_equal(len(y_hat), N)\n",
    "assert_almost_equal(y_hat.mean(), 0.294 , places=2)\n",
    "assert_almost_equal(y_hat.std() , 0.497 , places=2)"
   ]
  },
  {
   "cell_type": "markdown",
   "metadata": {
    "deletable": false,
    "editable": false,
    "nbgrader": {
     "cell_type": "markdown",
     "checksum": "a43c6eff1db5e086704c30cdeae5b165",
     "grade": false,
     "grade_id": "cell-8b422fb9981a08b8",
     "locked": true,
     "schema_version": 3,
     "solution": false,
     "task": false
    }
   },
   "source": [
    "We want to assess the performance of our linear regression over a more complicated dataset. At first, let's create it:"
   ]
  },
  {
   "cell_type": "code",
   "execution_count": null,
   "metadata": {
    "deletable": false,
    "editable": false,
    "nbgrader": {
     "cell_type": "code",
     "checksum": "e622f87a8679ce25cb7d3aecfb517970",
     "grade": false,
     "grade_id": "cell-768a91b3704f8765",
     "locked": true,
     "schema_version": 3,
     "solution": false,
     "task": false
    }
   },
   "outputs": [],
   "source": [
    "def perturbed_cos_data(N):\n",
    "    np.random.seed(0)\n",
    "    x = np.random.uniform(low = -2 , high = 2 , size = N)\n",
    "    n = np.random.rand(N) * 0.5\n",
    "    y = np.cos(4.5*x) + n\n",
    "    \n",
    "    return x, y\n",
    "\n",
    "N = 500 # The number of samples\n",
    "x,y = perturbed_cos_data(N)\n",
    "\n",
    "ax = plt.subplot(111)\n",
    "ax.scatter(x, y, alpha=0.5)\n",
    "ax.spines['bottom'].set_position('zero')\n",
    "ax.spines['left'].set_position('zero')\n",
    "ax.spines['top'].set_visible(False)\n",
    "ax.spines['right'].set_visible(False)"
   ]
  },
  {
   "cell_type": "markdown",
   "metadata": {
    "deletable": false,
    "editable": false,
    "nbgrader": {
     "cell_type": "markdown",
     "checksum": "4a4562bb3a11e742d5cd2630e646ffe9",
     "grade": false,
     "grade_id": "cell-3b593abf923267bc",
     "locked": true,
     "schema_version": 3,
     "solution": false,
     "task": false
    }
   },
   "source": [
    "### 1c (2 points)\n",
    "Now let's calculate $\\hat{y}$ and correlation coefficient from the linear regressor function over this dataset:"
   ]
  },
  {
   "cell_type": "code",
   "execution_count": null,
   "metadata": {
    "deletable": false,
    "nbgrader": {
     "cell_type": "code",
     "checksum": "fccd9e5c7e598c91f2db66a055fd87b7",
     "grade": false,
     "grade_id": "cell-0fc29f611eb1bca7",
     "locked": false,
     "schema_version": 3,
     "solution": true,
     "task": false
    }
   },
   "outputs": [],
   "source": [
    "N = 500 # The number of samples\n",
    "x,y = perturbed_cos_data(N)\n",
    "\n",
    "# YOUR CODE HERE\n",
    "raise NotImplementedError()\n",
    "# y_hat, rho = \n",
    "\n",
    "print('Correlation coefficient: {:0.3f}'.format(rho))\n",
    "\n",
    "ax = plt.subplot(111)\n",
    "ax.scatter(x, y, alpha=0.5)\n",
    "ax.plot(x, y_hat, alpha=0.5 , color = 'r')\n",
    "ax.spines['bottom'].set_position('zero')\n",
    "ax.spines['left'].set_position('zero')\n",
    "ax.spines['top'].set_visible(False)\n",
    "ax.spines['right'].set_visible(False)"
   ]
  },
  {
   "cell_type": "code",
   "execution_count": null,
   "metadata": {
    "deletable": false,
    "editable": false,
    "nbgrader": {
     "cell_type": "code",
     "checksum": "2dfd1e5d48c7d16a5aa3d38d929b8b8d",
     "grade": true,
     "grade_id": "cell-e63c1d4f202d3139",
     "locked": true,
     "points": 2,
     "schema_version": 3,
     "solution": false,
     "task": false
    }
   },
   "outputs": [],
   "source": [
    "print(len(y_hat))\n",
    "print(y_hat.mean())\n",
    "print(y_hat.std())\n",
    "assert_equal(len(y_hat), N)\n",
    "assert_almost_equal(y_hat.mean(), 0.247 , places=2)\n",
    "assert_almost_equal(y_hat.std() , 0.032 , places=2)"
   ]
  },
  {
   "cell_type": "markdown",
   "metadata": {
    "deletable": false,
    "editable": false,
    "nbgrader": {
     "cell_type": "markdown",
     "checksum": "e169b0c9bb59fde3afa6d6c2bcc5f309",
     "grade": false,
     "grade_id": "cell-a7b19b136d15557d",
     "locked": true,
     "schema_version": 3,
     "solution": false,
     "task": false
    }
   },
   "source": [
    "Is this a reasonable estimation? How can we design a better estimator?\n",
    "\n",
    "Can you compare $\\rho$ for these two datasets? Which one is greater, and what does it mean to you?"
   ]
  },
  {
   "cell_type": "markdown",
   "metadata": {
    "deletable": false,
    "nbgrader": {
     "cell_type": "markdown",
     "checksum": "573df8cdc7d4afe9a91073dfa19a6711",
     "grade": true,
     "grade_id": "cell-dfab7379a295c647",
     "locked": false,
     "points": 0,
     "schema_version": 3,
     "solution": true,
     "task": false
    }
   },
   "source": [
    "YOUR ANSWER HERE"
   ]
  },
  {
   "cell_type": "markdown",
   "metadata": {
    "deletable": false,
    "editable": false,
    "nbgrader": {
     "cell_type": "markdown",
     "checksum": "59537076bcffe5d291736f9a7457e12f",
     "grade": false,
     "grade_id": "cell-42c2b0265bdec56f",
     "locked": true,
     "schema_version": 3,
     "solution": false,
     "task": false
    }
   },
   "source": [
    "### 1d (5 points)\n",
    "SciPy provides a linear regression function that is similar to our function. Please use the following method to calculate the regression line's slope, intercept, and correlation coefficient ($\\rho$). "
   ]
  },
  {
   "cell_type": "code",
   "execution_count": null,
   "metadata": {
    "deletable": false,
    "nbgrader": {
     "cell_type": "code",
     "checksum": "88f6674945a6a00559bcad10ef502b0d",
     "grade": false,
     "grade_id": "cell-9f18693630f81fb4",
     "locked": false,
     "schema_version": 3,
     "solution": true,
     "task": false
    }
   },
   "outputs": [],
   "source": [
    "from scipy.stats import linregress\n",
    "N = 200\n",
    "x,y = perturbed_line_data(N)\n",
    "\n",
    "# YOUR CODE HERE\n",
    "raise NotImplementedError()\n",
    "# slope = \n",
    "# intercept = \n",
    "# rho = \n",
    "print('Correlation coefficient: {:0.3f}'.format(rho))\n",
    "\n",
    "ax = plt.subplot(111)\n",
    "ax.scatter(x, y, alpha=0.5)\n",
    "ax.plot(x, slope * x + intercept, alpha=0.5 , color = 'r')\n",
    "ax.spines['bottom'].set_position('zero')\n",
    "ax.spines['left'].set_position('zero')\n",
    "ax.spines['top'].set_visible(False)\n",
    "ax.spines['right'].set_visible(False)"
   ]
  },
  {
   "cell_type": "code",
   "execution_count": null,
   "metadata": {
    "deletable": false,
    "editable": false,
    "nbgrader": {
     "cell_type": "code",
     "checksum": "6d80ea8ab8f783fe5a125ee56fb47692",
     "grade": true,
     "grade_id": "cell-f52fae0b7e12d465",
     "locked": true,
     "points": 5,
     "schema_version": 3,
     "solution": false,
     "task": false
    }
   },
   "outputs": [],
   "source": [
    "print(slope * intercept * rho)\n",
    "print(slope/intercept)\n",
    "assert_almost_equal(slope * intercept * rho, 0.126 , places=2)\n",
    "assert_almost_equal(slope/intercept , 1.494 , places=2)"
   ]
  }
 ],
 "metadata": {
  "kernelspec": {
   "display_name": "Python 3",
   "language": "python",
   "name": "python3"
  },
  "language_info": {
   "codemirror_mode": {
    "name": "ipython",
    "version": 3
   },
   "file_extension": ".py",
   "mimetype": "text/x-python",
   "name": "python",
   "nbconvert_exporter": "python",
   "pygments_lexer": "ipython3",
   "version": "3.8.3"
  }
 },
 "nbformat": 4,
 "nbformat_minor": 5
}
