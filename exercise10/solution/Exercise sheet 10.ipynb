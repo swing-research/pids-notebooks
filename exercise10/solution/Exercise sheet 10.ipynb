{
 "cells": [
  {
   "cell_type": "markdown",
   "id": "35966ab3",
   "metadata": {},
   "source": [
    "# Exercise sheet 10\n",
    "**Hello everyone!**\n",
    "\n",
    "**Points: 15 (+2)**\n",
    "\n",
    "Please let us know if you have questions or problems! <br>\n",
    "Contact us during the exercise session, on [ADAM](https://adam.unibas.ch/goto_adam_crs_1266890.html), [Piazza](https://piazza.com/class/kzy15kp8s5t6ku), or [via email](https://sada.dmi.unibas.ch/en/teaching/pids22).\n",
    "\n",
    "Please submit this exercise sheet on **ADAM**.\n",
    "Naming conventions:\n",
    "\n",
    "1. Make a folder called \"exercise10\".\n",
    "2. Put your submission \"Exercise sheet 10.ipynb\" in there.\n",
    "3. Complete the sheet. Only put code or text inside the blocks where \"# YOUR CODE HERE\" or \"YOUR ANSWER HERE\" is written. Everything else will be deleted during grading. Don't add new blocks.\n",
    "4. Then zip the folder called \"exercise10\". This will create a zip file called \"exercise10.zip\". Rename that zip file to your Unibas short name, e.g. \"blabla0000.zip\".\n",
    "\n",
    "Common mistakes:\n",
    "- Don't use capital letter for your identification name, or the exercise folder.\n",
    "- Don't put previous sheet or dataset on the submission folders. Just the sheet, ipynb format.\n",
    "\n",
    "\n",
    "\n",
    "**Handout date**: 2022/05/17 <br>\n",
    "**Submission date**: 2022/05/24 <br>"
   ]
  },
  {
   "cell_type": "code",
   "execution_count": 1,
   "id": "ef7a85d5",
   "metadata": {},
   "outputs": [],
   "source": [
    "import pandas as pd\n",
    "import seaborn as sns\n",
    "import matplotlib.pyplot as plt\n",
    "import numpy as np\n",
    "from scipy import stats\n",
    "from scipy.stats import norm\n",
    "from nose.tools import assert_is_instance, assert_equal, assert_almost_equal, assert_true"
   ]
  },
  {
   "cell_type": "markdown",
   "id": "ab467cba",
   "metadata": {},
   "source": [
    "<p><a href=\"https://commons.wikimedia.org/wiki/File:Basel_-_M%C3%BCnsterpfalz3.jpg#/media/Datei:Basel_-_Münsterpfalz3.jpg\"><img src=\"https://upload.wikimedia.org/wikipedia/commons/1/18/Basel_-_M%C3%BCnsterpfalz3.jpg\" alt=\"Basler Münster mit Pfalz und der Mittleren Rheinbrücke\" height=\"486\" width=\"1280\"></a></p>"
   ]
  },
  {
   "cell_type": "markdown",
   "id": "ab994d87",
   "metadata": {},
   "source": [
    "# Basel's neighborhoods\n",
    "We are working with a dataset containing information about Basel and its neighborhoods. You can find it here: https://opendata.swiss/de/dataset/kennzahlen-zu-den-basler-wohnvierteln-und-landgemeinden. It's also uploaded as a csv to this folder."
   ]
  },
  {
   "cell_type": "code",
   "execution_count": 2,
   "id": "0277aa99",
   "metadata": {},
   "outputs": [
    {
     "data": {
      "text/html": [
       "<div>\n",
       "<style scoped>\n",
       "    .dataframe tbody tr th:only-of-type {\n",
       "        vertical-align: middle;\n",
       "    }\n",
       "\n",
       "    .dataframe tbody tr th {\n",
       "        vertical-align: top;\n",
       "    }\n",
       "\n",
       "    .dataframe thead th {\n",
       "        text-align: right;\n",
       "    }\n",
       "</style>\n",
       "<table border=\"1\" class=\"dataframe\">\n",
       "  <thead>\n",
       "    <tr style=\"text-align: right;\">\n",
       "      <th></th>\n",
       "      <th>publikationsjahr</th>\n",
       "      <th>wohnviertel_id</th>\n",
       "      <th>wohnviertel_name</th>\n",
       "      <th>anteil_sozialhilfeempfaenger</th>\n",
       "      <th>anteil_auslaender</th>\n",
       "      <th>anteil_personen_ohne_religionszugehoerigkeit</th>\n",
       "      <th>anteil_personen_in_einpersonenhaushalten</th>\n",
       "      <th>gymnasialquote</th>\n",
       "      <th>altersquotient</th>\n",
       "      <th>anteil_sesshafte</th>\n",
       "      <th>...</th>\n",
       "      <th>baujahr_der_wohngebaeude</th>\n",
       "      <th>anteil_einfamilienhaeuser</th>\n",
       "      <th>anteil_gruenflaechen</th>\n",
       "      <th>flaeche_pro_wohnung</th>\n",
       "      <th>wohnflaeche_pro_person</th>\n",
       "      <th>vermoegenssteuer_pro_veranlagung</th>\n",
       "      <th>einkommenssteuer_pro_veranlagung</th>\n",
       "      <th>erwerbstaetigenquote</th>\n",
       "      <th>arbeitsplaetze_pro_einwohner</th>\n",
       "      <th>arbeitslosenquote</th>\n",
       "    </tr>\n",
       "  </thead>\n",
       "  <tbody>\n",
       "    <tr>\n",
       "      <th>0</th>\n",
       "      <td>2015</td>\n",
       "      <td>1</td>\n",
       "      <td>Altstadt Grossbasel</td>\n",
       "      <td>0.017115</td>\n",
       "      <td>0.251426</td>\n",
       "      <td>0.517930</td>\n",
       "      <td>0.324463</td>\n",
       "      <td>0.777778</td>\n",
       "      <td>0.297921</td>\n",
       "      <td>0.328851</td>\n",
       "      <td>...</td>\n",
       "      <td>1825.400406</td>\n",
       "      <td>0.101626</td>\n",
       "      <td>0.066693</td>\n",
       "      <td>90.808059</td>\n",
       "      <td>55.739958</td>\n",
       "      <td>4297.479726</td>\n",
       "      <td>15795.731129</td>\n",
       "      <td>0.824263</td>\n",
       "      <td>4.354447</td>\n",
       "      <td>0.019072</td>\n",
       "    </tr>\n",
       "    <tr>\n",
       "      <th>1</th>\n",
       "      <td>2015</td>\n",
       "      <td>2</td>\n",
       "      <td>Vorstädte</td>\n",
       "      <td>0.031635</td>\n",
       "      <td>0.353328</td>\n",
       "      <td>0.532251</td>\n",
       "      <td>0.345813</td>\n",
       "      <td>0.636364</td>\n",
       "      <td>0.374726</td>\n",
       "      <td>0.279170</td>\n",
       "      <td>...</td>\n",
       "      <td>1899.097967</td>\n",
       "      <td>0.075786</td>\n",
       "      <td>0.194198</td>\n",
       "      <td>81.803421</td>\n",
       "      <td>51.200218</td>\n",
       "      <td>4902.317140</td>\n",
       "      <td>14894.945946</td>\n",
       "      <td>0.779869</td>\n",
       "      <td>4.530718</td>\n",
       "      <td>0.023471</td>\n",
       "    </tr>\n",
       "    <tr>\n",
       "      <th>2</th>\n",
       "      <td>2015</td>\n",
       "      <td>7</td>\n",
       "      <td>Bruderholz</td>\n",
       "      <td>0.017662</td>\n",
       "      <td>0.229827</td>\n",
       "      <td>0.458660</td>\n",
       "      <td>0.166817</td>\n",
       "      <td>0.608108</td>\n",
       "      <td>0.442465</td>\n",
       "      <td>0.427310</td>\n",
       "      <td>...</td>\n",
       "      <td>1948.410577</td>\n",
       "      <td>0.734615</td>\n",
       "      <td>0.713769</td>\n",
       "      <td>109.383218</td>\n",
       "      <td>50.067809</td>\n",
       "      <td>8585.686671</td>\n",
       "      <td>18103.101406</td>\n",
       "      <td>0.752834</td>\n",
       "      <td>0.130144</td>\n",
       "      <td>0.023127</td>\n",
       "    </tr>\n",
       "    <tr>\n",
       "      <th>3</th>\n",
       "      <td>2015</td>\n",
       "      <td>8</td>\n",
       "      <td>Bachletten</td>\n",
       "      <td>0.022092</td>\n",
       "      <td>0.210320</td>\n",
       "      <td>0.455482</td>\n",
       "      <td>0.224974</td>\n",
       "      <td>0.609137</td>\n",
       "      <td>0.374629</td>\n",
       "      <td>0.421825</td>\n",
       "      <td>...</td>\n",
       "      <td>1934.025590</td>\n",
       "      <td>0.561775</td>\n",
       "      <td>0.408619</td>\n",
       "      <td>93.179580</td>\n",
       "      <td>47.396467</td>\n",
       "      <td>1632.650810</td>\n",
       "      <td>11363.577884</td>\n",
       "      <td>0.790006</td>\n",
       "      <td>0.190061</td>\n",
       "      <td>0.023636</td>\n",
       "    </tr>\n",
       "    <tr>\n",
       "      <th>4</th>\n",
       "      <td>2015</td>\n",
       "      <td>10</td>\n",
       "      <td>Iselin</td>\n",
       "      <td>0.089462</td>\n",
       "      <td>0.360277</td>\n",
       "      <td>0.445545</td>\n",
       "      <td>0.284152</td>\n",
       "      <td>0.262357</td>\n",
       "      <td>0.260469</td>\n",
       "      <td>0.331530</td>\n",
       "      <td>...</td>\n",
       "      <td>1937.165632</td>\n",
       "      <td>0.167702</td>\n",
       "      <td>0.375125</td>\n",
       "      <td>68.638626</td>\n",
       "      <td>37.648552</td>\n",
       "      <td>425.867934</td>\n",
       "      <td>6405.308048</td>\n",
       "      <td>0.701177</td>\n",
       "      <td>0.155020</td>\n",
       "      <td>0.042679</td>\n",
       "    </tr>\n",
       "  </tbody>\n",
       "</table>\n",
       "<p>5 rows × 21 columns</p>\n",
       "</div>"
      ],
      "text/plain": [
       "   publikationsjahr  wohnviertel_id     wohnviertel_name  \\\n",
       "0              2015               1  Altstadt Grossbasel   \n",
       "1              2015               2            Vorstädte   \n",
       "2              2015               7           Bruderholz   \n",
       "3              2015               8           Bachletten   \n",
       "4              2015              10               Iselin   \n",
       "\n",
       "   anteil_sozialhilfeempfaenger  anteil_auslaender  \\\n",
       "0                      0.017115           0.251426   \n",
       "1                      0.031635           0.353328   \n",
       "2                      0.017662           0.229827   \n",
       "3                      0.022092           0.210320   \n",
       "4                      0.089462           0.360277   \n",
       "\n",
       "   anteil_personen_ohne_religionszugehoerigkeit  \\\n",
       "0                                      0.517930   \n",
       "1                                      0.532251   \n",
       "2                                      0.458660   \n",
       "3                                      0.455482   \n",
       "4                                      0.445545   \n",
       "\n",
       "   anteil_personen_in_einpersonenhaushalten  gymnasialquote  altersquotient  \\\n",
       "0                                  0.324463        0.777778        0.297921   \n",
       "1                                  0.345813        0.636364        0.374726   \n",
       "2                                  0.166817        0.608108        0.442465   \n",
       "3                                  0.224974        0.609137        0.374629   \n",
       "4                                  0.284152        0.262357        0.260469   \n",
       "\n",
       "   anteil_sesshafte  ...  baujahr_der_wohngebaeude  anteil_einfamilienhaeuser  \\\n",
       "0          0.328851  ...               1825.400406                   0.101626   \n",
       "1          0.279170  ...               1899.097967                   0.075786   \n",
       "2          0.427310  ...               1948.410577                   0.734615   \n",
       "3          0.421825  ...               1934.025590                   0.561775   \n",
       "4          0.331530  ...               1937.165632                   0.167702   \n",
       "\n",
       "   anteil_gruenflaechen  flaeche_pro_wohnung  wohnflaeche_pro_person  \\\n",
       "0              0.066693            90.808059               55.739958   \n",
       "1              0.194198            81.803421               51.200218   \n",
       "2              0.713769           109.383218               50.067809   \n",
       "3              0.408619            93.179580               47.396467   \n",
       "4              0.375125            68.638626               37.648552   \n",
       "\n",
       "   vermoegenssteuer_pro_veranlagung  einkommenssteuer_pro_veranlagung  \\\n",
       "0                       4297.479726                      15795.731129   \n",
       "1                       4902.317140                      14894.945946   \n",
       "2                       8585.686671                      18103.101406   \n",
       "3                       1632.650810                      11363.577884   \n",
       "4                        425.867934                       6405.308048   \n",
       "\n",
       "   erwerbstaetigenquote  arbeitsplaetze_pro_einwohner  arbeitslosenquote  \n",
       "0              0.824263                      4.354447           0.019072  \n",
       "1              0.779869                      4.530718           0.023471  \n",
       "2              0.752834                      0.130144           0.023127  \n",
       "3              0.790006                      0.190061           0.023636  \n",
       "4              0.701177                      0.155020           0.042679  \n",
       "\n",
       "[5 rows x 21 columns]"
      ]
     },
     "execution_count": 2,
     "metadata": {},
     "output_type": "execute_result"
    }
   ],
   "source": [
    "bs = pd.read_csv(\"basel_neighborhoods.csv\", sep=\";\")\n",
    "bs.head()"
   ]
  },
  {
   "cell_type": "markdown",
   "id": "4c18ae5f",
   "metadata": {},
   "source": [
    "## P value (12 points)\n",
    "Let's see if there's an answer to the following question: Did the amount of green spaces in Basel's neighborhoods increase *significantly* between 2015 and 2021? <br>\n",
    "\n",
    "The column that measures green spaces (parks and such) is called *anteil_gruenflaechen*."
   ]
  },
  {
   "cell_type": "markdown",
   "id": "465fe30d",
   "metadata": {},
   "source": [
    "### Observed difference (1 point)\n",
    "What is the observed difference between the mean of the amount of green spaces in 2015 and in 2021? <br>\n",
    "(Hint: Averaged over all neighborhoods)"
   ]
  },
  {
   "cell_type": "code",
   "execution_count": 3,
   "id": "2bb23d72",
   "metadata": {
    "nbgrader": {
     "grade": false,
     "grade_id": "cell-c1d5d57296720457",
     "locked": false,
     "schema_version": 3,
     "solution": true,
     "task": false
    }
   },
   "outputs": [
    {
     "name": "stdout",
     "output_type": "stream",
     "text": [
      "0.010221135919047719\n"
     ]
    }
   ],
   "source": [
    "mean_2015 = bs[bs[\"publikationsjahr\"] == 2015][\"anteil_gruenflaechen\"].mean()\n",
    "mean_2021 = bs[bs[\"publikationsjahr\"] == 2021][\"anteil_gruenflaechen\"].mean()\n",
    "\n",
    "print(mean_2021 - mean_2015)"
   ]
  },
  {
   "cell_type": "code",
   "execution_count": 4,
   "id": "70e14238",
   "metadata": {
    "nbgrader": {
     "grade": true,
     "grade_id": "cell-3b18cf85b244c23e",
     "locked": true,
     "points": 1,
     "schema_version": 3,
     "solution": false,
     "task": false
    }
   },
   "outputs": [],
   "source": [
    "assert_almost_equal(mean_2021 - mean_2015, 0.0102, places=2)\n",
    "assert_almost_equal(mean_2015, 0.3199, places=2)\n",
    "assert_almost_equal(mean_2021, 0.3301, places=2)"
   ]
  },
  {
   "cell_type": "markdown",
   "id": "44c349d5",
   "metadata": {},
   "source": [
    "### Thinking about it...\n",
    "Do you think that this difference points to a strong increase in green spaces between 2015 and 2021? What do you think the p value will be approximately?"
   ]
  },
  {
   "cell_type": "markdown",
   "id": "2889743f",
   "metadata": {
    "nbgrader": {
     "grade": true,
     "grade_id": "cell-f407cf89d324922e",
     "locked": false,
     "points": 0,
     "schema_version": 3,
     "solution": true,
     "task": false
    }
   },
   "source": [
    "Some interesting thoughts by students:\n",
    "\n",
    "- the percentual change is small, so the p-value will be big\n",
    "- while the percentual change is small, when we try to understand what the change (1% of the area of Basel) represents, it's actually equivalent to multiple football fields. Maybe that's not so small after all?"
   ]
  },
  {
   "cell_type": "markdown",
   "id": "bdd209ea",
   "metadata": {},
   "source": [
    "### Artificial variables (3 points)\n",
    "Let's make a new dataframe \"neighborhoods\" containing the neighborhoods of Basel in a column called \"wohnviertel_name\". Additionally, it should have a column called \"increase_green_space\" that has...\n",
    "* a 1 if the amount of green space increased between 2015 and 2021 for this neighborhood\n",
    "* a 0 otherwise"
   ]
  },
  {
   "cell_type": "code",
   "execution_count": 5,
   "id": "b77aeae7",
   "metadata": {
    "nbgrader": {
     "grade": false,
     "grade_id": "cell-ce997035c2a68011",
     "locked": false,
     "schema_version": 3,
     "solution": true,
     "task": false
    }
   },
   "outputs": [
    {
     "data": {
      "text/html": [
       "<div>\n",
       "<style scoped>\n",
       "    .dataframe tbody tr th:only-of-type {\n",
       "        vertical-align: middle;\n",
       "    }\n",
       "\n",
       "    .dataframe tbody tr th {\n",
       "        vertical-align: top;\n",
       "    }\n",
       "\n",
       "    .dataframe thead th {\n",
       "        text-align: right;\n",
       "    }\n",
       "</style>\n",
       "<table border=\"1\" class=\"dataframe\">\n",
       "  <thead>\n",
       "    <tr style=\"text-align: right;\">\n",
       "      <th></th>\n",
       "      <th>wohnviertel_name</th>\n",
       "      <th>increase_green_space</th>\n",
       "    </tr>\n",
       "  </thead>\n",
       "  <tbody>\n",
       "    <tr>\n",
       "      <th>0</th>\n",
       "      <td>Altstadt Grossbasel</td>\n",
       "      <td>0</td>\n",
       "    </tr>\n",
       "    <tr>\n",
       "      <th>1</th>\n",
       "      <td>Vorstädte</td>\n",
       "      <td>1</td>\n",
       "    </tr>\n",
       "    <tr>\n",
       "      <th>2</th>\n",
       "      <td>Bruderholz</td>\n",
       "      <td>0</td>\n",
       "    </tr>\n",
       "    <tr>\n",
       "      <th>3</th>\n",
       "      <td>Bachletten</td>\n",
       "      <td>1</td>\n",
       "    </tr>\n",
       "    <tr>\n",
       "      <th>4</th>\n",
       "      <td>Iselin</td>\n",
       "      <td>0</td>\n",
       "    </tr>\n",
       "  </tbody>\n",
       "</table>\n",
       "</div>"
      ],
      "text/plain": [
       "      wohnviertel_name  increase_green_space\n",
       "0  Altstadt Grossbasel                     0\n",
       "1            Vorstädte                     1\n",
       "2           Bruderholz                     0\n",
       "3           Bachletten                     1\n",
       "4               Iselin                     0"
      ]
     },
     "execution_count": 5,
     "metadata": {},
     "output_type": "execute_result"
    }
   ],
   "source": [
    "bs_2015 = bs[bs[\"publikationsjahr\"] == 2015]\n",
    "bs_2021 = bs[bs[\"publikationsjahr\"] == 2021]\n",
    "neighborhoods = bs[\"wohnviertel_name\"].drop_duplicates().to_frame()\n",
    "\n",
    "def increase(viertel):\n",
    "    value_2015 = bs_2015[bs_2015[\"wohnviertel_name\"] == viertel][\"anteil_gruenflaechen\"].iloc[0]\n",
    "    value_2021 = bs_2021[bs_2021[\"wohnviertel_name\"] == viertel][\"anteil_gruenflaechen\"].iloc[0]\n",
    "    if (value_2021 - value_2015) > 0:\n",
    "        return 1\n",
    "    return 0\n",
    "\n",
    "neighborhoods[\"increase_green_space\"] = neighborhoods[\"wohnviertel_name\"].apply(increase)\n",
    "neighborhoods.head()"
   ]
  },
  {
   "cell_type": "code",
   "execution_count": 6,
   "id": "3aee17cd",
   "metadata": {
    "nbgrader": {
     "grade": true,
     "grade_id": "cell-6352e5648d9d870a",
     "locked": true,
     "points": 3,
     "schema_version": 3,
     "solution": false,
     "task": false
    }
   },
   "outputs": [],
   "source": [
    "assert_is_instance(neighborhoods, pd.DataFrame)\n",
    "assert_equal(neighborhoods[neighborhoods[\"wohnviertel_name\"] == \"Bachletten\"][\"increase_green_space\"].iloc[0], 1)\n",
    "assert_equal(neighborhoods[neighborhoods[\"wohnviertel_name\"] == \"Matthäus\"][\"increase_green_space\"].iloc[0], 0)"
   ]
  },
  {
   "cell_type": "markdown",
   "id": "80e600d2",
   "metadata": {},
   "source": [
    "### Amount of neighborhoods with an increase in green spaces (3 points)\n",
    "What is the percentage of neighborhoods that had an increase in green spaces from 2015 to 2021? This value will let us calculate the difference to our null hypothesis value."
   ]
  },
  {
   "cell_type": "code",
   "execution_count": 7,
   "id": "a2be41bb",
   "metadata": {
    "nbgrader": {
     "grade": false,
     "grade_id": "cell-707efa52cfcacb2c",
     "locked": false,
     "schema_version": 3,
     "solution": true,
     "task": false
    }
   },
   "outputs": [
    {
     "name": "stdout",
     "output_type": "stream",
     "text": [
      "0.5714285714285714 0.0714285714285714\n"
     ]
    }
   ],
   "source": [
    "increase_2021 = neighborhoods[\"increase_green_space\"].mean()\n",
    "difference_null_hypothesis = increase_2021 - 0.5\n",
    "print(increase_2021, difference_null_hypothesis)"
   ]
  },
  {
   "cell_type": "code",
   "execution_count": 8,
   "id": "8bc866ec",
   "metadata": {
    "nbgrader": {
     "grade": true,
     "grade_id": "cell-6c4890aad81d1b54",
     "locked": true,
     "points": 3,
     "schema_version": 3,
     "solution": false,
     "task": false
    }
   },
   "outputs": [],
   "source": [
    "assert_is_instance(increase_2021, float)\n",
    "assert_is_instance(difference_null_hypothesis, float)\n",
    "assert_almost_equal(increase_2021, 0.57142857, places=2)\n",
    "assert_almost_equal(difference_null_hypothesis, 0.0714285, places=2)"
   ]
  },
  {
   "cell_type": "markdown",
   "id": "83f482cf",
   "metadata": {},
   "source": [
    "### Calculate the p value (3 points)\n",
    "What is the p value for there being a significant difference in the amount of green space between 2015 and 2021? <br>\n",
    "Or: What is the p value for $P(|mean2021 - 0.5| > \\text{observed_difference}) $?"
   ]
  },
  {
   "cell_type": "code",
   "execution_count": 9,
   "id": "a724b674",
   "metadata": {
    "nbgrader": {
     "grade": false,
     "grade_id": "cell-07f7fc5a4f401a11",
     "locked": false,
     "schema_version": 3,
     "solution": true,
     "task": false
    }
   },
   "outputs": [
    {
     "data": {
      "text/plain": [
       "0.5126907602619235"
      ]
     },
     "execution_count": 9,
     "metadata": {},
     "output_type": "execute_result"
    }
   ],
   "source": [
    "N = bs[bs[\"publikationsjahr\"] == 2021][\"anteil_gruenflaechen\"].count()\n",
    "t = np.sqrt(N) * difference_null_hypothesis/0.5\n",
    "p_value = ((1 - (norm.cdf(t) - norm.cdf(-t))))\n",
    "p_value"
   ]
  },
  {
   "cell_type": "code",
   "execution_count": 10,
   "id": "8a0834b9",
   "metadata": {
    "nbgrader": {
     "grade": true,
     "grade_id": "cell-c1f16ff9645226be",
     "locked": true,
     "points": 3,
     "schema_version": 3,
     "solution": false,
     "task": false
    }
   },
   "outputs": [],
   "source": [
    "assert_is_instance(p_value, float)\n",
    "assert_almost_equal(p_value, 0.51269, places=2)"
   ]
  },
  {
   "cell_type": "markdown",
   "id": "e0eff92e",
   "metadata": {},
   "source": [
    "### Do we reject or fail to reject the null hypothesis based on our p value? (2 points)\n",
    "(Hint: Read the question carefully and google it if you're not sure what it means)"
   ]
  },
  {
   "cell_type": "code",
   "execution_count": 11,
   "id": "ba63561f",
   "metadata": {
    "nbgrader": {
     "grade": false,
     "grade_id": "cell-e09f38db783d9e60",
     "locked": false,
     "schema_version": 3,
     "solution": true,
     "task": false
    }
   },
   "outputs": [],
   "source": [
    "null_hypothesis = \"fail to reject\""
   ]
  },
  {
   "cell_type": "code",
   "execution_count": 12,
   "id": "c7fb74ff",
   "metadata": {
    "nbgrader": {
     "grade": true,
     "grade_id": "cell-ce8f3510a55faf06",
     "locked": true,
     "points": 2,
     "schema_version": 3,
     "solution": false,
     "task": false
    }
   },
   "outputs": [],
   "source": [
    "assert_is_instance(null_hypothesis, str)\n",
    "assert_true(null_hypothesis in (\"fail to reject\", \"reject\"))\n",
    "assert_equal(null_hypothesis, \"fail to reject\")"
   ]
  },
  {
   "cell_type": "markdown",
   "id": "c9acddbd",
   "metadata": {},
   "source": [
    "### How could we get a lower p value?"
   ]
  },
  {
   "cell_type": "markdown",
   "id": "3bafee97",
   "metadata": {
    "nbgrader": {
     "grade": true,
     "grade_id": "cell-7f58662189aa532a",
     "locked": false,
     "points": 0,
     "schema_version": 3,
     "solution": true,
     "task": false
    }
   },
   "source": [
    "Repeat the experiment (compare different years), choose different columns, guerilla gardening..."
   ]
  },
  {
   "cell_type": "markdown",
   "id": "c31b5b6b",
   "metadata": {},
   "source": [
    "## Regression (3 points (+2))\n",
    "### Plot correlation\n",
    "Make a plot that shows you how income tax (*einkommenssteuer_pro_veranlagung*) and apartment size (*flaeche_pro_wohnung*) are correlated (a scatter plot) for the year 2021."
   ]
  },
  {
   "cell_type": "code",
   "execution_count": 13,
   "id": "8da80527",
   "metadata": {
    "nbgrader": {
     "grade": true,
     "grade_id": "cell-30fc240c2ed71fb4",
     "locked": false,
     "points": 0,
     "schema_version": 3,
     "solution": true,
     "task": false
    }
   },
   "outputs": [
    {
     "data": {
      "text/plain": [
       "<AxesSubplot:xlabel='einkommenssteuer_pro_veranlagung'>"
      ]
     },
     "execution_count": 13,
     "metadata": {},
     "output_type": "execute_result"
    },
    {
     "data": {
      "image/png": "[encoded data removed]",
      "text/plain": [
       "<Figure size 432x288 with 1 Axes>"
      ]
     },
     "metadata": {
      "needs_background": "light"
     },
     "output_type": "display_data"
    }
   ],
   "source": [
    "bs_2021 = bs[bs[\"publikationsjahr\"] == 2021]\n",
    "bs_2021.plot(\"einkommenssteuer_pro_veranlagung\", \"flaeche_pro_wohnung\", style='o')"
   ]
  },
  {
   "cell_type": "markdown",
   "id": "aa2106b7",
   "metadata": {},
   "source": [
    "### Correlation coefficient (1 point)\n",
    "What is the correlation coefficient between income tax and apartments size in Basel for 2021?"
   ]
  },
  {
   "cell_type": "code",
   "execution_count": 14,
   "id": "097cb7ef",
   "metadata": {
    "nbgrader": {
     "grade": false,
     "grade_id": "cell-5a5ef833de831dee",
     "locked": false,
     "schema_version": 3,
     "solution": true,
     "task": false
    }
   },
   "outputs": [
    {
     "data": {
      "text/plain": [
       "0.8537433905040707"
      ]
     },
     "execution_count": 14,
     "metadata": {},
     "output_type": "execute_result"
    }
   ],
   "source": [
    "corr_coeff = bs_2021[\"einkommenssteuer_pro_veranlagung\"].corr(bs_2021[\"flaeche_pro_wohnung\"])\n",
    "corr_coeff"
   ]
  },
  {
   "cell_type": "code",
   "execution_count": 15,
   "id": "483297a4",
   "metadata": {
    "nbgrader": {
     "grade": true,
     "grade_id": "cell-917bc90470c47113",
     "locked": true,
     "points": 1,
     "schema_version": 3,
     "solution": false,
     "task": false
    }
   },
   "outputs": [],
   "source": [
    "assert_is_instance(corr_coeff, float)\n",
    "assert_almost_equal(corr_coeff, 0.85374, places=2)"
   ]
  },
  {
   "cell_type": "markdown",
   "id": "a4bf30ae",
   "metadata": {},
   "source": [
    "### Highest correlation (+ 2 bonus points)\n",
    "What is the highest correlation value between two columns in the bs dataset for the year 2021?"
   ]
  },
  {
   "cell_type": "code",
   "execution_count": 16,
   "id": "7405900b",
   "metadata": {
    "nbgrader": {
     "grade": false,
     "grade_id": "cell-b841e41740bd4cfe",
     "locked": false,
     "schema_version": 3,
     "solution": true,
     "task": false
    }
   },
   "outputs": [
    {
     "name": "stderr",
     "output_type": "stream",
     "text": [
      "C:\\Users\\Phaina\\AppData\\Local\\Temp/ipykernel_15008/1086808125.py:5: DeprecationWarning: `np.bool` is a deprecated alias for the builtin `bool`. To silence this warning, use `bool` by itself. Doing this will not modify any behavior and is safe. If you specifically wanted the numpy scalar type, use `np.bool_` here.\n",
      "Deprecated in NumPy 1.20; for more details and guidance: https://numpy.org/devdocs/release/1.20.0-notes.html#deprecations\n",
      "  sol = (corrs.where(np.triu(np.ones(corrs.shape), k=1).astype(np.bool))\n"
     ]
    },
    {
     "data": {
      "text/plain": [
       "0.9546703408715231"
      ]
     },
     "execution_count": 16,
     "metadata": {},
     "output_type": "execute_result"
    }
   ],
   "source": [
    "# Code from https://stackoverflow.com/questions/17778394/list-highest-correlation-pairs-from-a-large-correlation-matrix-in-pandas\n",
    "corrs = bs_2021.corr().abs()\n",
    "sol = (corrs.where(np.triu(np.ones(corrs.shape), k=1).astype(np.bool))\n",
    "            .stack()\n",
    "            .sort_values(ascending=False))\n",
    "highest_correlation = sol[0]\n",
    "highest_correlation"
   ]
  },
  {
   "cell_type": "code",
   "execution_count": 29,
   "id": "eb0a4326",
   "metadata": {},
   "outputs": [
    {
     "data": {
      "text/plain": [
       "0.9546703408715231"
      ]
     },
     "execution_count": 29,
     "metadata": {},
     "output_type": "execute_result"
    }
   ],
   "source": [
    "bs[bs[\"publikationsjahr\"] == 2021].corr().replace(to_replace=1.0, value=0).max().max()"
   ]
  },
  {
   "cell_type": "code",
   "execution_count": 17,
   "id": "e8643f85",
   "metadata": {
    "nbgrader": {
     "grade": true,
     "grade_id": "cell-9b623c8c3cb9df90",
     "locked": true,
     "points": 2,
     "schema_version": 3,
     "solution": false,
     "task": false
    }
   },
   "outputs": [],
   "source": [
    "assert_is_instance(highest_correlation, float)\n",
    "assert_almost_equal(highest_correlation, 0.95467, places=2)"
   ]
  },
  {
   "cell_type": "markdown",
   "id": "234c6e5f",
   "metadata": {},
   "source": [
    "### Plot another correlation\n",
    "Make a plot that shows you how living space per person (*wohnflaeche_pro_person*) and apartment size (*flaeche_pro_wohnung*) are correlated (a scatter plot) for the year 2021."
   ]
  },
  {
   "cell_type": "code",
   "execution_count": 18,
   "id": "739ff789",
   "metadata": {
    "nbgrader": {
     "grade": true,
     "grade_id": "cell-c1967853363f5c89",
     "locked": false,
     "points": 0,
     "schema_version": 3,
     "solution": true,
     "task": false
    }
   },
   "outputs": [
    {
     "data": {
      "text/plain": [
       "<AxesSubplot:xlabel='wohnflaeche_pro_person'>"
      ]
     },
     "execution_count": 18,
     "metadata": {},
     "output_type": "execute_result"
    },
    {
     "data": {
      "image/png": "[encoded data removed]",
      "text/plain": [
       "<Figure size 432x288 with 1 Axes>"
      ]
     },
     "metadata": {
      "needs_background": "light"
     },
     "output_type": "display_data"
    }
   ],
   "source": [
    "bs_2021.plot(\"wohnflaeche_pro_person\", \"flaeche_pro_wohnung\", style='o')"
   ]
  },
  {
   "cell_type": "markdown",
   "id": "1f85e7db",
   "metadata": {},
   "source": [
    "What do you notice on this plot? What kind of value do you expect for the correlation coefficient? What could be problematic about this correlation?"
   ]
  },
  {
   "cell_type": "markdown",
   "id": "ac00d397",
   "metadata": {
    "nbgrader": {
     "grade": true,
     "grade_id": "cell-bbd1af1856fa03f5",
     "locked": false,
     "points": 0,
     "schema_version": 3,
     "solution": true,
     "task": false
    }
   },
   "source": [
    "Possibly a quadratic (or even exponential!) function, not linear. Outliers might skew regression line."
   ]
  },
  {
   "cell_type": "markdown",
   "id": "6e51f25a",
   "metadata": {},
   "source": [
    "### Expectations (2 points)\n",
    "What is the expected value $\\hat E$ for the amount of living space for a random person (*wohnflaeche_pro_person*) living in Basel in 2021?"
   ]
  },
  {
   "cell_type": "code",
   "execution_count": 19,
   "id": "27d56084",
   "metadata": {
    "nbgrader": {
     "grade": false,
     "grade_id": "cell-540ceba74e68d292",
     "locked": false,
     "schema_version": 3,
     "solution": true,
     "task": false
    }
   },
   "outputs": [],
   "source": [
    "living_space = bs_2021[\"wohnflaeche_pro_person\"].mean()"
   ]
  },
  {
   "cell_type": "code",
   "execution_count": 20,
   "id": "170b3848",
   "metadata": {
    "nbgrader": {
     "grade": true,
     "grade_id": "cell-34ce7292b3c81829",
     "locked": true,
     "points": 2,
     "schema_version": 3,
     "solution": false,
     "task": false
    }
   },
   "outputs": [],
   "source": [
    "assert_is_instance(living_space, float)\n",
    "assert_almost_equal(living_space, 42.1139, places=2)"
   ]
  },
  {
   "cell_type": "code",
   "execution_count": null,
   "id": "2ae1b2d9",
   "metadata": {},
   "outputs": [],
   "source": []
  }
 ],
 "metadata": {
  "celltoolbar": "Create Assignment",
  "kernelspec": {
   "display_name": "Python 3 (ipykernel)",
   "language": "python",
   "name": "python3"
  },
  "language_info": {
   "codemirror_mode": {
    "name": "ipython",
    "version": 3
   },
   "file_extension": ".py",
   "mimetype": "text/x-python",
   "name": "python",
   "nbconvert_exporter": "python",
   "pygments_lexer": "ipython3",
   "version": "3.8.12"
  }
 },
 "nbformat": 4,
 "nbformat_minor": 5
}
